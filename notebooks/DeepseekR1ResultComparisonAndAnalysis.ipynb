{
 "cells": [
  {
   "cell_type": "markdown",
   "metadata": {},
   "source": [
    "# read excel files and compare the results"
   ]
  },
  {
   "cell_type": "code",
   "execution_count": 1,
   "metadata": {},
   "outputs": [],
   "source": [
    "filePath = \"/home/azureuser/cpa-lrm-evaluation/output/azure_deepseek_R1_result[0:60].xlsx\""
   ]
  },
  {
   "cell_type": "code",
   "execution_count": 3,
   "metadata": {},
   "outputs": [
    {
     "name": "stdout",
     "output_type": "stream",
     "text": [
      "deepseek-R1-answer sccuracy: 96.67%\n"
     ]
    }
   ],
   "source": [
    "import pandas as pd\n",
    "\n",
    "# read the excel file\n",
    "df = pd.read_excel(filePath)\n",
    "total = len(df)\n",
    "\n",
    "# get the required columns\n",
    "required_columns = ['answer', 'deepseek-R1-answer']\n",
    "\n",
    "# statistics for each column\n",
    "accuracies = {}\n",
    "for col in required_columns[1:]:\n",
    "    correct_count = (df[col] == df['answer']).sum()\n",
    "    accuracy = correct_count / total if total > 0 else 0\n",
    "    accuracies[col] = accuracy\n",
    "\n",
    "# output the result \n",
    "for col, acc in accuracies.items():\n",
    "    print(f\"{col} sccuracy: {acc:.2%}\")\n"
   ]
  }
 ],
 "metadata": {
  "kernelspec": {
   "display_name": ".venv",
   "language": "python",
   "name": "python3"
  },
  "language_info": {
   "codemirror_mode": {
    "name": "ipython",
    "version": 3
   },
   "file_extension": ".py",
   "mimetype": "text/x-python",
   "name": "python",
   "nbconvert_exporter": "python",
   "pygments_lexer": "ipython3",
   "version": "3.12.7"
  }
 },
 "nbformat": 4,
 "nbformat_minor": 2
}
